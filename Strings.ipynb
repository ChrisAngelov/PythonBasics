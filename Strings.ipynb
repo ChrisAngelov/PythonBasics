{
 "cells": [
  {
   "cell_type": "markdown",
   "id": "39a902f9",
   "metadata": {},
   "source": [
    "# Python Strings"
   ]
  },
  {
   "cell_type": "markdown",
   "id": "633b79e8",
   "metadata": {},
   "source": [
    "## String basics "
   ]
  },
  {
   "cell_type": "markdown",
   "id": "2bc4e7e3",
   "metadata": {},
   "source": [
    "Double quotes possible"
   ]
  },
  {
   "cell_type": "code",
   "execution_count": 2,
   "id": "15aa3f10",
   "metadata": {},
   "outputs": [
    {
     "data": {
      "text/plain": [
       "'hello world'"
      ]
     },
     "execution_count": 2,
     "metadata": {},
     "output_type": "execute_result"
    }
   ],
   "source": [
    "\"hello world\""
   ]
  },
  {
   "cell_type": "markdown",
   "id": "f58aac15",
   "metadata": {},
   "source": [
    "Single quotes work too "
   ]
  },
  {
   "cell_type": "code",
   "execution_count": null,
   "id": "9d15a3dd",
   "metadata": {},
   "outputs": [],
   "source": [
    "'this is a also string'"
   ]
  },
  {
   "cell_type": "markdown",
   "id": "cd4074a0",
   "metadata": {},
   "source": [
    "Mixing both"
   ]
  },
  {
   "cell_type": "code",
   "execution_count": 3,
   "id": "a2fc3294",
   "metadata": {},
   "outputs": [
    {
     "data": {
      "text/plain": [
       "\"I'm going to the gym\""
      ]
     },
     "execution_count": 3,
     "metadata": {},
     "output_type": "execute_result"
    }
   ],
   "source": [
    "\"I'm going to the gym\""
   ]
  },
  {
   "cell_type": "markdown",
   "id": "f35a40ce",
   "metadata": {},
   "source": [
    "##### Acutally printing a string "
   ]
  },
  {
   "cell_type": "code",
   "execution_count": 4,
   "id": "cfd52564",
   "metadata": {},
   "outputs": [
    {
     "name": "stdout",
     "output_type": "stream",
     "text": [
      "hello word 1\n"
     ]
    }
   ],
   "source": [
    "print(\"hello word 1\")"
   ]
  },
  {
   "cell_type": "markdown",
   "id": "98d29136",
   "metadata": {},
   "source": [
    "Escape char"
   ]
  },
  {
   "cell_type": "code",
   "execution_count": 5,
   "id": "ca681eee",
   "metadata": {},
   "outputs": [
    {
     "name": "stdout",
     "output_type": "stream",
     "text": [
      "hello \n",
      " word\n"
     ]
    }
   ],
   "source": [
    "print('hello \\n word')"
   ]
  },
  {
   "cell_type": "code",
   "execution_count": 6,
   "id": "d64f2f4f",
   "metadata": {},
   "outputs": [
    {
     "name": "stdout",
     "output_type": "stream",
     "text": [
      "hello \tworld\n"
     ]
    }
   ],
   "source": [
    "print(\"hello \\tworld\")"
   ]
  },
  {
   "cell_type": "markdown",
   "id": "c803663d",
   "metadata": {},
   "source": [
    "##### Length of a String "
   ]
  },
  {
   "cell_type": "code",
   "execution_count": 7,
   "id": "24588cd4",
   "metadata": {},
   "outputs": [
    {
     "data": {
      "text/plain": [
       "10"
      ]
     },
     "execution_count": 7,
     "metadata": {},
     "output_type": "execute_result"
    }
   ],
   "source": [
    "len('Hello word')"
   ]
  },
  {
   "cell_type": "code",
   "execution_count": 8,
   "id": "a9e2ad20",
   "metadata": {},
   "outputs": [
    {
     "data": {
      "text/plain": [
       "21"
      ]
     },
     "execution_count": 8,
     "metadata": {},
     "output_type": "execute_result"
    }
   ],
   "source": [
    "len(\"i am coding in python\")"
   ]
  },
  {
   "cell_type": "code",
   "execution_count": null,
   "id": "30b785d5",
   "metadata": {},
   "outputs": [],
   "source": []
  },
  {
   "cell_type": "markdown",
   "id": "9666589e",
   "metadata": {},
   "source": [
    "## Indexing"
   ]
  },
  {
   "cell_type": "markdown",
   "id": "974d55f1",
   "metadata": {},
   "source": [
    "|                |          |          |          |          |          |          |\n",
    "|----------------|----------|----------|----------|----------|----------|----------|\n",
    "| Character      | A        | B        | C        | D        | E        | F        |\n",
    "| Index          | 0        | 1        | 2        | 3        | 4        | 5        |\n",
    "| Reverse Index  | -5        | -4        | -3        | -2        | -1        | 0        |"
   ]
  },
  {
   "cell_type": "markdown",
   "id": "8f83d728",
   "metadata": {},
   "source": [
    "Python allows for reverse indexing "
   ]
  },
  {
   "cell_type": "code",
   "execution_count": 9,
   "id": "0afadbb6",
   "metadata": {},
   "outputs": [],
   "source": [
    "mynewstring = \"Hello World\""
   ]
  },
  {
   "cell_type": "code",
   "execution_count": 10,
   "id": "4865d63b",
   "metadata": {},
   "outputs": [
    {
     "data": {
      "text/plain": [
       "'Hello World'"
      ]
     },
     "execution_count": 10,
     "metadata": {},
     "output_type": "execute_result"
    }
   ],
   "source": [
    "mynewstring"
   ]
  },
  {
   "cell_type": "markdown",
   "id": "4c0972c9",
   "metadata": {},
   "source": [
    "Get the H at position 0"
   ]
  },
  {
   "cell_type": "code",
   "execution_count": 12,
   "id": "3cf0ac0e",
   "metadata": {},
   "outputs": [
    {
     "data": {
      "text/plain": [
       "'H'"
      ]
     },
     "execution_count": 12,
     "metadata": {},
     "output_type": "execute_result"
    }
   ],
   "source": [
    "mynewstring[0]"
   ]
  },
  {
   "cell_type": "markdown",
   "id": "c1e363c2",
   "metadata": {},
   "source": [
    "Get o at position 4"
   ]
  },
  {
   "cell_type": "code",
   "execution_count": 13,
   "id": "cc19dc4d",
   "metadata": {},
   "outputs": [
    {
     "data": {
      "text/plain": [
       "'o'"
      ]
     },
     "execution_count": 13,
     "metadata": {},
     "output_type": "execute_result"
    }
   ],
   "source": [
    "mynewstring[4]"
   ]
  },
  {
   "cell_type": "markdown",
   "id": "5533a2f7",
   "metadata": {},
   "source": [
    "Now with negativ indexing get the W"
   ]
  },
  {
   "cell_type": "code",
   "execution_count": 14,
   "id": "813f61bf",
   "metadata": {},
   "outputs": [
    {
     "data": {
      "text/plain": [
       "'W'"
      ]
     },
     "execution_count": 14,
     "metadata": {},
     "output_type": "execute_result"
    }
   ],
   "source": [
    "mynewstring[-5]"
   ]
  },
  {
   "cell_type": "markdown",
   "id": "38b6ee12",
   "metadata": {},
   "source": [
    "Now cut out World. Start at index till end."
   ]
  },
  {
   "cell_type": "code",
   "execution_count": 15,
   "id": "dc81fc35",
   "metadata": {},
   "outputs": [
    {
     "data": {
      "text/plain": [
       "'World'"
      ]
     },
     "execution_count": 15,
     "metadata": {},
     "output_type": "execute_result"
    }
   ],
   "source": [
    "mynewstring[-5:]"
   ]
  },
  {
   "cell_type": "markdown",
   "id": "d247ece7",
   "metadata": {},
   "source": [
    "Now with ending Index "
   ]
  },
  {
   "cell_type": "code",
   "execution_count": 16,
   "id": "ed0e0f90",
   "metadata": {},
   "outputs": [
    {
     "data": {
      "text/plain": [
       "'Hello'"
      ]
     },
     "execution_count": 16,
     "metadata": {},
     "output_type": "execute_result"
    }
   ],
   "source": [
    "mynewstring[:5]"
   ]
  },
  {
   "cell_type": "markdown",
   "id": "f990f529",
   "metadata": {},
   "source": [
    "now combined"
   ]
  },
  {
   "cell_type": "code",
   "execution_count": 18,
   "id": "9b8daf8b",
   "metadata": {},
   "outputs": [
    {
     "data": {
      "text/plain": [
       "'ello'"
      ]
     },
     "execution_count": 18,
     "metadata": {},
     "output_type": "execute_result"
    }
   ],
   "source": [
    "mynewstring[1:5]"
   ]
  },
  {
   "cell_type": "markdown",
   "id": "b8925a6c",
   "metadata": {},
   "source": [
    "## String Properties and Methods "
   ]
  },
  {
   "cell_type": "markdown",
   "id": "b5d93ba4",
   "metadata": {},
   "source": [
    "## Immutability "
   ]
  },
  {
   "cell_type": "code",
   "execution_count": 19,
   "id": "63711b93",
   "metadata": {},
   "outputs": [],
   "source": [
    "name = \"Sam\""
   ]
  },
  {
   "cell_type": "code",
   "execution_count": 20,
   "id": "10889cf6",
   "metadata": {},
   "outputs": [
    {
     "ename": "TypeError",
     "evalue": "'str' object does not support item assignment",
     "output_type": "error",
     "traceback": [
      "\u001b[1;31m---------------------------------------------------------------------------\u001b[0m",
      "\u001b[1;31mTypeError\u001b[0m                                 Traceback (most recent call last)",
      "Cell \u001b[1;32mIn[20], line 1\u001b[0m\n\u001b[1;32m----> 1\u001b[0m name[\u001b[38;5;241m0\u001b[39m] \u001b[38;5;241m=\u001b[39m \u001b[38;5;124m'\u001b[39m\u001b[38;5;124mD\u001b[39m\u001b[38;5;124m'\u001b[39m\n",
      "\u001b[1;31mTypeError\u001b[0m: 'str' object does not support item assignment"
     ]
    }
   ],
   "source": [
    "name[0] = 'D'"
   ]
  },
  {
   "cell_type": "markdown",
   "id": "d6831c90",
   "metadata": {},
   "source": [
    "^^ This is not supported. You have to concat them. "
   ]
  },
  {
   "cell_type": "code",
   "execution_count": 21,
   "id": "8f2de947",
   "metadata": {},
   "outputs": [
    {
     "data": {
      "text/plain": [
       "'am'"
      ]
     },
     "execution_count": 21,
     "metadata": {},
     "output_type": "execute_result"
    }
   ],
   "source": [
    "name[1:]"
   ]
  },
  {
   "cell_type": "code",
   "execution_count": 22,
   "id": "8da00ab8",
   "metadata": {},
   "outputs": [],
   "source": [
    "lastLetters = name[1:]"
   ]
  },
  {
   "cell_type": "code",
   "execution_count": 23,
   "id": "11da9c93",
   "metadata": {},
   "outputs": [
    {
     "data": {
      "text/plain": [
       "'Dam'"
      ]
     },
     "execution_count": 23,
     "metadata": {},
     "output_type": "execute_result"
    }
   ],
   "source": [
    "'D' + lastLetters "
   ]
  },
  {
   "cell_type": "code",
   "execution_count": 24,
   "id": "32bf8ee8",
   "metadata": {},
   "outputs": [],
   "source": [
    "letter = 'z'"
   ]
  },
  {
   "cell_type": "code",
   "execution_count": 25,
   "id": "66e10993",
   "metadata": {},
   "outputs": [],
   "source": [
    "gotosleep= letter *10 "
   ]
  },
  {
   "cell_type": "code",
   "execution_count": 26,
   "id": "663439e7",
   "metadata": {},
   "outputs": [
    {
     "data": {
      "text/plain": [
       "'zzzzzzzzzz'"
      ]
     },
     "execution_count": 26,
     "metadata": {},
     "output_type": "execute_result"
    }
   ],
   "source": [
    "gotosleep"
   ]
  },
  {
   "cell_type": "markdown",
   "id": "99fd9f8a",
   "metadata": {},
   "source": [
    "Be careful with dynamic typing! "
   ]
  },
  {
   "cell_type": "code",
   "execution_count": 27,
   "id": "bf012107",
   "metadata": {},
   "outputs": [
    {
     "data": {
      "text/plain": [
       "12"
      ]
     },
     "execution_count": 27,
     "metadata": {},
     "output_type": "execute_result"
    }
   ],
   "source": [
    "6+6 "
   ]
  },
  {
   "cell_type": "code",
   "execution_count": 28,
   "id": "62d2fcde",
   "metadata": {},
   "outputs": [
    {
     "data": {
      "text/plain": [
       "'66'"
      ]
     },
     "execution_count": 28,
     "metadata": {},
     "output_type": "execute_result"
    }
   ],
   "source": [
    "\"6\" + \"6\""
   ]
  },
  {
   "cell_type": "markdown",
   "id": "8ac50fc4",
   "metadata": {},
   "source": [
    "### String methods "
   ]
  },
  {
   "cell_type": "code",
   "execution_count": 29,
   "id": "13f52123",
   "metadata": {},
   "outputs": [],
   "source": [
    "x = \"Hello Word\""
   ]
  },
  {
   "cell_type": "code",
   "execution_count": 30,
   "id": "2233b722",
   "metadata": {},
   "outputs": [
    {
     "data": {
      "text/plain": [
       "'HELLO WORD'"
      ]
     },
     "execution_count": 30,
     "metadata": {},
     "output_type": "execute_result"
    }
   ],
   "source": [
    "x.upper()"
   ]
  },
  {
   "cell_type": "code",
   "execution_count": 32,
   "id": "4005f70e",
   "metadata": {},
   "outputs": [
    {
     "data": {
      "text/plain": [
       "'hello word'"
      ]
     },
     "execution_count": 32,
     "metadata": {},
     "output_type": "execute_result"
    }
   ],
   "source": [
    "x.lower()"
   ]
  },
  {
   "cell_type": "code",
   "execution_count": 33,
   "id": "0588bd8a",
   "metadata": {},
   "outputs": [],
   "source": [
    "x = \"Hello;World\""
   ]
  },
  {
   "cell_type": "code",
   "execution_count": 34,
   "id": "3d229f33",
   "metadata": {},
   "outputs": [
    {
     "data": {
      "text/plain": [
       "['Hello', 'World']"
      ]
     },
     "execution_count": 34,
     "metadata": {},
     "output_type": "execute_result"
    }
   ],
   "source": [
    "x.split(';')"
   ]
  },
  {
   "cell_type": "markdown",
   "id": "c652bad5",
   "metadata": {},
   "source": [
    "#### Formating "
   ]
  },
  {
   "cell_type": "code",
   "execution_count": 35,
   "id": "26842fd7",
   "metadata": {},
   "outputs": [
    {
     "name": "stdout",
     "output_type": "stream",
     "text": [
      "Hello World! INSERTED!\n"
     ]
    }
   ],
   "source": [
    "print(\"Hello World! {}\" .format('INSERTED!'))"
   ]
  },
  {
   "cell_type": "code",
   "execution_count": 36,
   "id": "7d309fa8",
   "metadata": {},
   "outputs": [
    {
     "name": "stdout",
     "output_type": "stream",
     "text": [
      "gray yellow blue\n"
     ]
    }
   ],
   "source": [
    "print('{0} {2} {1}' .format('gray', 'blue', 'yellow'))"
   ]
  },
  {
   "cell_type": "code",
   "execution_count": 37,
   "id": "9d0dd46a",
   "metadata": {},
   "outputs": [
    {
     "name": "stdout",
     "output_type": "stream",
     "text": [
      "gray yellow blue\n"
     ]
    }
   ],
   "source": [
    "print('{g} {y} {b}' .format(g='gray', b='blue', y='yellow'))"
   ]
  },
  {
   "cell_type": "markdown",
   "id": "b94ad2ee",
   "metadata": {},
   "source": [
    "#### Float formatting "
   ]
  },
  {
   "cell_type": "code",
   "execution_count": 38,
   "id": "41c9076c",
   "metadata": {},
   "outputs": [],
   "source": [
    "result = 100 / 7 "
   ]
  },
  {
   "cell_type": "code",
   "execution_count": 39,
   "id": "8ad01ce2",
   "metadata": {},
   "outputs": [
    {
     "data": {
      "text/plain": [
       "14.285714285714286"
      ]
     },
     "execution_count": 39,
     "metadata": {},
     "output_type": "execute_result"
    }
   ],
   "source": [
    "result "
   ]
  },
  {
   "cell_type": "code",
   "execution_count": 41,
   "id": "d1f5616b",
   "metadata": {},
   "outputs": [
    {
     "name": "stdout",
     "output_type": "stream",
     "text": [
      "The number is 14.286\n"
     ]
    }
   ],
   "source": [
    "print(\"The number is {r:1.3f}\".format(r=result))"
   ]
  },
  {
   "cell_type": "markdown",
   "id": "9a24775a",
   "metadata": {},
   "source": [
    "##### formated string literals "
   ]
  },
  {
   "cell_type": "code",
   "execution_count": 43,
   "id": "a929c49e",
   "metadata": {},
   "outputs": [],
   "source": [
    "newname = 'John'"
   ]
  },
  {
   "cell_type": "code",
   "execution_count": 44,
   "id": "24cbb841",
   "metadata": {},
   "outputs": [
    {
     "name": "stdout",
     "output_type": "stream",
     "text": [
      "His name is John\n"
     ]
    }
   ],
   "source": [
    "print(f'His name is {newname}')"
   ]
  },
  {
   "cell_type": "code",
   "execution_count": null,
   "id": "5fa265e1",
   "metadata": {},
   "outputs": [],
   "source": []
  }
 ],
 "metadata": {
  "kernelspec": {
   "display_name": "Python 3 (ipykernel)",
   "language": "python",
   "name": "python3"
  },
  "language_info": {
   "codemirror_mode": {
    "name": "ipython",
    "version": 3
   },
   "file_extension": ".py",
   "mimetype": "text/x-python",
   "name": "python",
   "nbconvert_exporter": "python",
   "pygments_lexer": "ipython3",
   "version": "3.11.4"
  }
 },
 "nbformat": 4,
 "nbformat_minor": 5
}
