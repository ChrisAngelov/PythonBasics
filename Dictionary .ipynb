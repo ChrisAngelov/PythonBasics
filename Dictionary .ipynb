{
 "cells": [
  {
   "cell_type": "markdown",
   "id": "4bd6debd",
   "metadata": {},
   "source": [
    "# Dictionary "
   ]
  },
  {
   "cell_type": "code",
   "execution_count": 2,
   "id": "5d8dc01a",
   "metadata": {},
   "outputs": [],
   "source": [
    "my_new_dict  = {\"key1\": \"value1\", \"key2\" : \"value2\"}"
   ]
  },
  {
   "cell_type": "code",
   "execution_count": 3,
   "id": "96ff7549",
   "metadata": {},
   "outputs": [
    {
     "data": {
      "text/plain": [
       "{'key1': 'value1', 'key2': 'value2'}"
      ]
     },
     "execution_count": 3,
     "metadata": {},
     "output_type": "execute_result"
    }
   ],
   "source": [
    "my_new_dict"
   ]
  },
  {
   "cell_type": "code",
   "execution_count": 5,
   "id": "0c4292f4",
   "metadata": {},
   "outputs": [
    {
     "data": {
      "text/plain": [
       "'value1'"
      ]
     },
     "execution_count": 5,
     "metadata": {},
     "output_type": "execute_result"
    }
   ],
   "source": [
    "my_new_dict['key1']"
   ]
  },
  {
   "cell_type": "code",
   "execution_count": 6,
   "id": "d2f63aca",
   "metadata": {},
   "outputs": [],
   "source": [
    "prices= {\"mango\": 4, \"orange\": 2, \"nuts\": 6}"
   ]
  },
  {
   "cell_type": "code",
   "execution_count": 7,
   "id": "96a38b46",
   "metadata": {},
   "outputs": [
    {
     "data": {
      "text/plain": [
       "4"
      ]
     },
     "execution_count": 7,
     "metadata": {},
     "output_type": "execute_result"
    }
   ],
   "source": [
    "prices[\"mango\"]"
   ]
  },
  {
   "cell_type": "code",
   "execution_count": 8,
   "id": "4781a31c",
   "metadata": {},
   "outputs": [
    {
     "name": "stdout",
     "output_type": "stream",
     "text": [
      "Radost, you are adorable!\n",
      "Radost, you are sweet!\n",
      "Radost, you are cute!\n",
      "Radost, you are lovely!\n",
      "Radost, you are charming!\n"
     ]
    }
   ],
   "source": [
    "sweet_words = [\"cute\", \"sweet\", \"lovely\", \"adorable\", \"charming\"]\n",
    "mixed_bag = [\"apple\", \"adorable\", \"banana\", \"sweet\", \"car\", \"cute\", \"dog\", \"lovely\", \"elephant\", \"charming\"]\n",
    "\n",
    "def find_compliments(bag, words):\n",
    "    compliments_for_radost = [item for item in bag if item in words]\n",
    "    return compliments_for_radost\n",
    "    \n",
    "for word in mixed_bag:\n",
    "    if word in sweet_words:\n",
    "        print(f\"Radost, you are {word}!\")"
   ]
  },
  {
   "cell_type": "code",
   "execution_count": null,
   "id": "ffd0e258",
   "metadata": {},
   "outputs": [],
   "source": []
  }
 ],
 "metadata": {
  "kernelspec": {
   "display_name": "Python 3 (ipykernel)",
   "language": "python",
   "name": "python3"
  },
  "language_info": {
   "codemirror_mode": {
    "name": "ipython",
    "version": 3
   },
   "file_extension": ".py",
   "mimetype": "text/x-python",
   "name": "python",
   "nbconvert_exporter": "python",
   "pygments_lexer": "ipython3",
   "version": "3.11.4"
  }
 },
 "nbformat": 4,
 "nbformat_minor": 5
}
