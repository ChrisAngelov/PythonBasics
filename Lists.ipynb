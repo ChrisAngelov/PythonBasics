{
 "cells": [
  {
   "cell_type": "markdown",
   "id": "17619fdd",
   "metadata": {},
   "source": [
    "# Python Lists "
   ]
  },
  {
   "cell_type": "code",
   "execution_count": 1,
   "id": "1047f3d0",
   "metadata": {},
   "outputs": [],
   "source": [
    "newlist = [1,2,3,4,5]"
   ]
  },
  {
   "cell_type": "code",
   "execution_count": 3,
   "id": "bed0c12f",
   "metadata": {},
   "outputs": [
    {
     "data": {
      "text/plain": [
       "[1, 2, 3, 4, 5]"
      ]
     },
     "execution_count": 3,
     "metadata": {},
     "output_type": "execute_result"
    }
   ],
   "source": [
    "newlist"
   ]
  },
  {
   "cell_type": "markdown",
   "id": "c707e893",
   "metadata": {},
   "source": [
    "Can hold diffrent types "
   ]
  },
  {
   "cell_type": "code",
   "execution_count": 4,
   "id": "8e637a90",
   "metadata": {},
   "outputs": [],
   "source": [
    "newlist = [\"string\" ,1,2,3,4,5]"
   ]
  },
  {
   "cell_type": "code",
   "execution_count": 5,
   "id": "22adbc91",
   "metadata": {},
   "outputs": [
    {
     "data": {
      "text/plain": [
       "['string', 1, 2, 3, 4, 5]"
      ]
     },
     "execution_count": 5,
     "metadata": {},
     "output_type": "execute_result"
    }
   ],
   "source": [
    "newlist"
   ]
  },
  {
   "cell_type": "markdown",
   "id": "04e7702c",
   "metadata": {},
   "source": [
    "Checking length is same as in string"
   ]
  },
  {
   "cell_type": "code",
   "execution_count": 6,
   "id": "efdc2d35",
   "metadata": {},
   "outputs": [
    {
     "data": {
      "text/plain": [
       "6"
      ]
     },
     "execution_count": 6,
     "metadata": {},
     "output_type": "execute_result"
    }
   ],
   "source": [
    "len(newlist)"
   ]
  },
  {
   "cell_type": "markdown",
   "id": "b0f757a8",
   "metadata": {},
   "source": [
    "Indexing "
   ]
  },
  {
   "cell_type": "code",
   "execution_count": 9,
   "id": "e3029963",
   "metadata": {},
   "outputs": [],
   "source": [
    "mynewlist = [\"A\", \"B\", \"C\"]"
   ]
  },
  {
   "cell_type": "code",
   "execution_count": 11,
   "id": "fabc1388",
   "metadata": {},
   "outputs": [
    {
     "data": {
      "text/plain": [
       "'A'"
      ]
     },
     "execution_count": 11,
     "metadata": {},
     "output_type": "execute_result"
    }
   ],
   "source": [
    "mynewlist[0]"
   ]
  },
  {
   "cell_type": "code",
   "execution_count": 12,
   "id": "df37517a",
   "metadata": {
    "scrolled": true
   },
   "outputs": [
    {
     "data": {
      "text/plain": [
       "['B', 'C']"
      ]
     },
     "execution_count": 12,
     "metadata": {},
     "output_type": "execute_result"
    }
   ],
   "source": [
    " mynewlist[1:]"
   ]
  },
  {
   "cell_type": "markdown",
   "id": "a470df18",
   "metadata": {},
   "source": [
    "Add to list "
   ]
  },
  {
   "cell_type": "code",
   "execution_count": 16,
   "id": "08acdcc0",
   "metadata": {},
   "outputs": [],
   "source": [
    "mynewlist.append(\"D\")"
   ]
  },
  {
   "cell_type": "code",
   "execution_count": 18,
   "id": "a91f000b",
   "metadata": {},
   "outputs": [
    {
     "data": {
      "text/plain": [
       "['A', 'B', 'C', 'D', 'D']"
      ]
     },
     "execution_count": 18,
     "metadata": {},
     "output_type": "execute_result"
    }
   ],
   "source": [
    "mynewlist "
   ]
  },
  {
   "cell_type": "markdown",
   "id": "6a7323b5",
   "metadata": {},
   "source": [
    "remove from list "
   ]
  },
  {
   "cell_type": "code",
   "execution_count": 19,
   "id": "fefcd9f6",
   "metadata": {},
   "outputs": [
    {
     "data": {
      "text/plain": [
       "'D'"
      ]
     },
     "execution_count": 19,
     "metadata": {},
     "output_type": "execute_result"
    }
   ],
   "source": [
    "mynewlist.pop()"
   ]
  },
  {
   "cell_type": "code",
   "execution_count": 20,
   "id": "f0eef549",
   "metadata": {},
   "outputs": [
    {
     "data": {
      "text/plain": [
       "['A', 'B', 'C', 'D']"
      ]
     },
     "execution_count": 20,
     "metadata": {},
     "output_type": "execute_result"
    }
   ],
   "source": [
    "mynewlist "
   ]
  },
  {
   "cell_type": "code",
   "execution_count": 21,
   "id": "95b1f9e5",
   "metadata": {},
   "outputs": [],
   "source": [
    "popped_item = mynewlist.pop()"
   ]
  },
  {
   "cell_type": "code",
   "execution_count": 22,
   "id": "008d4cab",
   "metadata": {},
   "outputs": [
    {
     "data": {
      "text/plain": [
       "'D'"
      ]
     },
     "execution_count": 22,
     "metadata": {},
     "output_type": "execute_result"
    }
   ],
   "source": [
    "popped_item"
   ]
  },
  {
   "cell_type": "code",
   "execution_count": 23,
   "id": "cbaafa79",
   "metadata": {},
   "outputs": [
    {
     "data": {
      "text/plain": [
       "['A', 'B', 'C']"
      ]
     },
     "execution_count": 23,
     "metadata": {},
     "output_type": "execute_result"
    }
   ],
   "source": [
    "mynewlist"
   ]
  },
  {
   "cell_type": "code",
   "execution_count": null,
   "id": "638b8f10",
   "metadata": {},
   "outputs": [],
   "source": []
  },
  {
   "cell_type": "code",
   "execution_count": null,
   "id": "a6f963a7",
   "metadata": {},
   "outputs": [],
   "source": []
  }
 ],
 "metadata": {
  "kernelspec": {
   "display_name": "Python 3 (ipykernel)",
   "language": "python",
   "name": "python3"
  },
  "language_info": {
   "codemirror_mode": {
    "name": "ipython",
    "version": 3
   },
   "file_extension": ".py",
   "mimetype": "text/x-python",
   "name": "python",
   "nbconvert_exporter": "python",
   "pygments_lexer": "ipython3",
   "version": "3.11.4"
  }
 },
 "nbformat": 4,
 "nbformat_minor": 5
}
